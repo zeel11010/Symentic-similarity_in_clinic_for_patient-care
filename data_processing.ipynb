{
 "cells": [
  {
   "cell_type": "code",
   "execution_count": 21,
   "metadata": {},
   "outputs": [
    {
     "name": "stdout",
     "output_type": "stream",
     "text": [
      "Admissions columns: Index(['subject_id', 'hadm_id', 'admittime', 'dischtime', 'deathtime',\n",
      "       'admission_type', 'admit_provider_id', 'admission_location',\n",
      "       'discharge_location', 'insurance', 'language', 'marital_status', 'race',\n",
      "       'edregtime', 'edouttime', 'hospital_expire_flag'],\n",
      "      dtype='object')\n",
      "ICD Diagnoses columns: Index(['icd_code', 'icd_version', 'long_title'], dtype='object')\n",
      "ICD Procedures columns: Index(['icd_code', 'icd_version', 'long_title'], dtype='object')\n",
      "DRG Codes columns: Index(['subject_id', 'hadm_id', 'drg_type', 'drg_code', 'description',\n",
      "       'drg_severity', 'drg_mortality'],\n",
      "      dtype='object')\n",
      "Prescriptions columns: Index(['subject_id', 'hadm_id', 'pharmacy_id', 'poe_id', 'poe_seq',\n",
      "       'order_provider_id', 'starttime', 'stoptime', 'drug_type', 'drug',\n",
      "       'formulary_drug_cd', 'gsn', 'ndc', 'prod_strength', 'form_rx',\n",
      "       'dose_val_rx', 'dose_unit_rx', 'form_val_disp', 'form_unit_disp',\n",
      "       'doses_per_24_hrs', 'route'],\n",
      "      dtype='object')\n",
      "Preprocessed data saved to: preprocessed_data.csv\n"
     ]
    }
   ],
   "source": [
    "import pandas as pd\n",
    "\n",
    "admissions = pd.read_csv('admissions.csv.gz')\n",
    "icd_diagnoses = pd.read_csv('d_icd_diagnoses.csv.gz')\n",
    "icd_procedures = pd.read_csv('d_icd_procedures.csv.gz')\n",
    "drgcodes = pd.read_csv('drgcodes.csv.gz')\n",
    "prescriptions = pd.read_csv('prescriptions.csv.gz')\n",
    "\n",
    "print(\"Admissions columns:\", admissions.columns)\n",
    "print(\"ICD Diagnoses columns:\", icd_diagnoses.columns)\n",
    "print(\"ICD Procedures columns:\", icd_procedures.columns)\n",
    "print(\"DRG Codes columns:\", drgcodes.columns)\n",
    "print(\"Prescriptions columns:\", prescriptions.columns)\n",
    "\n",
    "drgcodes['drg_code'] = drgcodes['drg_code'].astype(str)\n",
    "icd_diagnoses['icd_code'] = icd_diagnoses['icd_code'].astype(str)\n",
    "icd_procedures['icd_code'] = icd_procedures['icd_code'].astype(str)\n",
    "\n",
    "admissions_drg = pd.merge(admissions, drgcodes, on=['subject_id', 'hadm_id'], how='left')\n",
    "admissions_drg_icd_diagnoses = pd.merge(admissions_drg, icd_diagnoses, how='left', left_on='drg_code', right_on='icd_code')\n",
    "admissions_drg_icd_procedures = pd.merge(admissions_drg_icd_diagnoses, icd_procedures, how='left', left_on='drg_code', right_on='icd_code', suffixes=('_diag', '_proc'))\n",
    "final_data = pd.merge(admissions_drg_icd_procedures, prescriptions, on=['subject_id', 'hadm_id'], how='left')\n",
    "\n",
    "\n",
    "output_path = 'preprocessed_data.csv'\n",
    "final_data.to_csv(output_path, index=False)\n",
    "print(f\"Preprocessed data saved to: {output_path}\")\n"
   ]
  },
  {
   "cell_type": "code",
   "execution_count": 22,
   "metadata": {},
   "outputs": [
    {
     "name": "stderr",
     "output_type": "stream",
     "text": [
      "C:\\Users\\zeelg\\AppData\\Local\\Temp\\ipykernel_6500\\2787959500.py:5: DtypeWarning: Columns (4,13,14,36,39) have mixed types. Specify dtype option on import or set low_memory=False.\n",
      "  data = pd.read_csv(file_path)\n"
     ]
    },
    {
     "name": "stdout",
     "output_type": "stream",
     "text": [
      "Original columns: Index(['subject_id', 'hadm_id', 'admittime', 'dischtime', 'deathtime',\n",
      "       'admission_type', 'admit_provider_id', 'admission_location',\n",
      "       'discharge_location', 'insurance', 'language', 'marital_status', 'race',\n",
      "       'edregtime', 'edouttime', 'hospital_expire_flag', 'drg_type',\n",
      "       'drg_code', 'description', 'drg_severity', 'drg_mortality',\n",
      "       'icd_code_diag', 'icd_version_diag', 'long_title_diag', 'icd_code_proc',\n",
      "       'icd_version_proc', 'long_title_proc', 'pharmacy_id', 'poe_id',\n",
      "       'poe_seq', 'order_provider_id', 'starttime', 'stoptime', 'drug_type',\n",
      "       'drug', 'formulary_drug_cd', 'gsn', 'ndc', 'prod_strength', 'form_rx',\n",
      "       'dose_val_rx', 'dose_unit_rx', 'form_val_disp', 'form_unit_disp',\n",
      "       'doses_per_24_hrs', 'route'],\n",
      "      dtype='object')\n",
      "Filtered data saved to: drugs.csv\n"
     ]
    }
   ],
   "source": [
    "import pandas as pd\n",
    "\n",
    "\n",
    "file_path = 'preprocessed_data.csv'\n",
    "data = pd.read_csv(file_path)\n",
    "print(\"Original columns:\", data.columns)\n",
    "\n",
    "\n",
    "required_columns = [\n",
    "    'subject_id', 'drug', 'formulary_drug_cd', 'prod_strength',\n",
    "    'form_rx', 'dose_val_rx', 'dose_unit_rx', 'doses_per_24_hrs', 'route'\n",
    "]\n",
    "filtered_data = data[required_columns]\n",
    "\n",
    "\n",
    "output_path = 'drugs.csv'\n",
    "filtered_data.to_csv(output_path, index=False)\n",
    "print(f\"Filtered data saved to: {output_path}\")\n"
   ]
  },
  {
   "cell_type": "code",
   "execution_count": 23,
   "metadata": {},
   "outputs": [
    {
     "name": "stdout",
     "output_type": "stream",
     "text": [
      "Combined data saved to: problem_statments.csv\n"
     ]
    }
   ],
   "source": [
    "import pandas as pd\n",
    "\n",
    "\n",
    "icd_diagnoses = pd.read_csv('d_icd_diagnoses.csv.gz')\n",
    "icd_procedures = pd.read_csv('d_icd_procedures.csv.gz')\n",
    "drgcodes = pd.read_csv('drgcodes.csv.gz')\n",
    "\n",
    "\n",
    "icd_diagnoses = icd_diagnoses[['long_title']].rename(columns={'long_title': 'diagnoses'})\n",
    "icd_procedures = icd_procedures[['long_title']].rename(columns={'long_title': 'procedures'})\n",
    "drgcodes = drgcodes[['description']]\n",
    "\n",
    "\n",
    "combined_data = pd.concat([icd_diagnoses, icd_procedures, drgcodes], axis=1)\n",
    "\n",
    "\n",
    "output_path = 'problem_statments.csv'\n",
    "combined_data.to_csv(output_path, index=False)\n",
    "print(f\"Combined data saved to: {output_path}\")\n"
   ]
  },
  {
   "cell_type": "code",
   "execution_count": 24,
   "metadata": {},
   "outputs": [
    {
     "name": "stdout",
     "output_type": "stream",
     "text": [
      "Filtered Data columns: Index(['subject_id', 'drug', 'formulary_drug_cd', 'prod_strength', 'form_rx',\n",
      "       'dose_val_rx', 'dose_unit_rx', 'doses_per_24_hrs', 'route'],\n",
      "      dtype='object')\n",
      "Combined Data columns: Index(['diagnoses', 'procedures', 'description'], dtype='object')\n",
      "Merged data saved to: final.csv\n"
     ]
    }
   ],
   "source": [
    "import pandas as pd\n",
    "\n",
    "\n",
    "filtered_data = pd.read_csv('drugs.csv')\n",
    "combined_data = pd.read_csv('problem_statments.csv')\n",
    "\n",
    "\n",
    "print(\"Filtered Data columns:\", filtered_data.columns)\n",
    "print(\"Combined Data columns:\", combined_data.columns)\n",
    "\n",
    "\n",
    "merged_data = pd.merge(filtered_data, combined_data, left_index=True, right_index=True, how='left')\n",
    "\n",
    "\n",
    "output_path = 'final.csv'\n",
    "merged_data.to_csv(output_path, index=False)\n",
    "print(f\"Merged data saved to: {output_path}\")\n"
   ]
  }
 ],
 "metadata": {
  "kernelspec": {
   "display_name": "Python 3",
   "language": "python",
   "name": "python3"
  },
  "language_info": {
   "codemirror_mode": {
    "name": "ipython",
    "version": 3
   },
   "file_extension": ".py",
   "mimetype": "text/x-python",
   "name": "python",
   "nbconvert_exporter": "python",
   "pygments_lexer": "ipython3",
   "version": "undefined.undefined.undefined"
  }
 },
 "nbformat": 4,
 "nbformat_minor": 2
}
